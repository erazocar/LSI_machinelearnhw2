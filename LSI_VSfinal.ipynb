{
  "nbformat": 4,
  "nbformat_minor": 0,
  "metadata": {
    "colab": {
      "name": "LSI-VSfinal.ipynb",
      "provenance": [],
      "collapsed_sections": [],
      "mount_file_id": "1rXHVlykw__4ytPxVS8J9xs61uCEBnmti",
      "authorship_tag": "ABX9TyNpKHKDOWAoaCgnLlk3Y6Ag",
      "include_colab_link": true
    },
    "kernelspec": {
      "name": "python3",
      "display_name": "Python 3"
    },
    "language_info": {
      "name": "python"
    }
  },
  "cells": [
    {
      "cell_type": "markdown",
      "metadata": {
        "id": "view-in-github",
        "colab_type": "text"
      },
      "source": [
        "<a href=\"https://colab.research.google.com/github/erazocar/LSI_machinelearnhw2/blob/main/LSI_VSfinal.ipynb\" target=\"_parent\"><img src=\"https://colab.research.google.com/assets/colab-badge.svg\" alt=\"Open In Colab\"/></a>"
      ]
    },
    {
      "cell_type": "code",
      "metadata": {
        "id": "AltcjEBB7nvq"
      },
      "source": [
        "#importing required libraries\n",
        "import numpy as np\n",
        "import os\n",
        "\n",
        "#Gensim library for document selection and LSI\n",
        "import gensim as gn"
      ],
      "execution_count": null,
      "outputs": []
    },
    {
      "cell_type": "code",
      "metadata": {
        "id": "18KYje0w3atd"
      },
      "source": [
        "#Reader for each file, appended to a list.\n",
        "def reader(path):\n",
        "  d=[]\n",
        "  col = []\n",
        "  filenames = os.listdir(path)\n",
        "  for file in filenames:\n",
        "    if file != '.DS_Store':\n",
        "      filepath = path +'/' + file\n",
        "      col.append(file)\n",
        "      with open(filepath, 'r') as infile:\n",
        "        content = infile.read().split('\\n')\n",
        "        d.append(content)\n",
        "      for i in range(len(d)):\n",
        "        d[i] = list(filter(None, d[i]))\n",
        "        d[i] = np.array(d[i], dtype=str)\n",
        "  print(\"Total number of documents: \", len(d))\n",
        "  return d, col"
      ],
      "execution_count": null,
      "outputs": []
    },
    {
      "cell_type": "code",
      "metadata": {
        "id": "sEzaLfiNEoSX"
      },
      "source": [
        "#Create a gensim dictionary and corpus\n",
        "def corpus(doc_clean):\n",
        "  dictionary = gn.corpora.Dictionary(doc_clean)\n",
        "  doc_term_matrix=[dictionary.doc2bow(doc) for doc in doc_clean]\n",
        "  return dictionary, doc_term_matrix"
      ],
      "execution_count": null,
      "outputs": []
    },
    {
      "cell_type": "code",
      "metadata": {
        "id": "ztUWMsa7E335"
      },
      "source": [
        "#Create and define the LSI model from gensim\n",
        "def gensim_lsi(doc_clean, num_concepts, words):\n",
        "  dictionary, doc_term_matrix = corpus(doc_clean)\n",
        "  lsimodel = gn.models.LsiModel(doc_term_matrix, num_topics=num_concepts, id2word=dictionary)\n",
        "  V = gn.matutils.corpus2dense(lsimodel[doc_term_matrix], len(lsimodel.projection.s)).T / lsimodel.projection.s\n",
        "  #topics = lsimodel.show_topics(num_topics=num_concepts, num_words = words)\n",
        "  my_dict = {'Topic_'+str(i): [token for token, score in lsimodel.show_topic(i, topn=words)] for i in range(0, lsimodel.num_topics)}\n",
        "  return lsimodel, V, dictionary, doc_term_matrix, my_dict"
      ],
      "execution_count": null,
      "outputs": []
    },
    {
      "cell_type": "code",
      "metadata": {
        "colab": {
          "base_uri": "https://localhost:8080/"
        },
        "id": "kwDY-G6-7Vob",
        "outputId": "9ccebe1c-47b1-44ee-de13-40636caf5dd1"
      },
      "source": [
        "#Read paths and create contents for the documents.\n",
        "#Please put the local paths were the queries and docs are located when running.\n",
        "path = '/content/drive/MyDrive/MachineLearning/homework-1/docs'\n",
        "\n",
        "#Declare variables for both the queries and docs and the corresponding names.\n",
        "docs, docs_names = reader(path)"
      ],
      "execution_count": null,
      "outputs": [
        {
          "output_type": "stream",
          "name": "stdout",
          "text": [
            "Total number of documents:  500\n"
          ]
        }
      ]
    },
    {
      "cell_type": "code",
      "metadata": {
        "colab": {
          "base_uri": "https://localhost:8080/"
        },
        "id": "oz69Jgs2KTWn",
        "outputId": "b0b2b71d-352a-4f57-9224-a1afaf4b052e"
      },
      "source": [
        "#Create the LSI model and obtain the results for each document.\n",
        "concepts = 5\n",
        "words = 10\n",
        "LSI, V, dic, term_matrx, topics_words = gensim_lsi(docs, concepts, words)\n",
        "topics_words"
      ],
      "execution_count": null,
      "outputs": [
        {
          "output_type": "stream",
          "name": "stderr",
          "text": [
            "/usr/local/lib/python3.7/dist-packages/gensim/matutils.py:502: FutureWarning: arrays to stack must be passed as a \"sequence\" type such as list or tuple. Support for non-sequence iterables such as generators is deprecated as of NumPy 1.16 and will raise an error in the future.\n",
            "  result = np.column_stack(sparse2full(doc, num_terms) for doc in corpus)\n"
          ]
        },
        {
          "output_type": "execute_result",
          "data": {
            "text/plain": [
              "{'Topic_0': ['probes',\n",
              "  'surface',\n",
              "  'moon',\n",
              "  'venus',\n",
              "  'mariner',\n",
              "  'images',\n",
              "  'solar',\n",
              "  'spacecraft',\n",
              "  'soviet',\n",
              "  'pioneer'],\n",
              " 'Topic_1': ['slip',\n",
              "  'packet',\n",
              "  'phone',\n",
              "  'echo',\n",
              "  'goto',\n",
              "  'surface',\n",
              "  'probes',\n",
              "  'dial',\n",
              "  'pktmux',\n",
              "  'c/slipper'],\n",
              " 'Topic_2': ['religious',\n",
              "  'religion',\n",
              "  'belief',\n",
              "  'slip',\n",
              "  'exist',\n",
              "  'atheist',\n",
              "  'beliefs',\n",
              "  'religions',\n",
              "  'sort',\n",
              "  'exists'],\n",
              " 'Topic_3': ['telescope',\n",
              "  'surface',\n",
              "  'probes',\n",
              "  'propulsion',\n",
              "  'slip',\n",
              "  'astronomical',\n",
              "  'moon',\n",
              "  'mariner',\n",
              "  'observatory',\n",
              "  'religious'],\n",
              " 'Topic_4': ['printer',\n",
              "  'deskjet',\n",
              "  'canon',\n",
              "  'quality',\n",
              "  'print',\n",
              "  'printers',\n",
              "  'bubblejet',\n",
              "  'paper',\n",
              "  'bought',\n",
              "  'printing']}"
            ]
          },
          "metadata": {},
          "execution_count": 6
        }
      ]
    },
    {
      "cell_type": "code",
      "metadata": {
        "colab": {
          "base_uri": "https://localhost:8080/"
        },
        "id": "3vR6xrWL-b3e",
        "outputId": "405d0589-e675-4031-a1fa-f47f0b659be7"
      },
      "source": [
        "#Obtain the 5 top singular values from the SVD central matrix.\n",
        "LSI.projection.s"
      ],
      "execution_count": null,
      "outputs": [
        {
          "output_type": "execute_result",
          "data": {
            "text/plain": [
              "array([110.65142994,  93.4225172 ,  88.96466966,  79.47344215,\n",
              "        69.15084486])"
            ]
          },
          "metadata": {},
          "execution_count": 7
        }
      ]
    },
    {
      "cell_type": "code",
      "metadata": {
        "colab": {
          "base_uri": "https://localhost:8080/"
        },
        "id": "xnUD5s0LDuuC",
        "outputId": "37884cf7-3a46-421a-880d-857fc58f695a"
      },
      "source": [
        "#Create a list of queries derived from the top 5 concepts from the documents.\n",
        "queries=[]\n",
        "for i in topics_words:\n",
        "  queries.append(topics_words[i])\n",
        "print(queries)"
      ],
      "execution_count": null,
      "outputs": [
        {
          "output_type": "stream",
          "name": "stdout",
          "text": [
            "[['probes', 'surface', 'moon', 'venus', 'mariner', 'images', 'solar', 'spacecraft', 'soviet', 'pioneer'], ['slip', 'packet', 'phone', 'echo', 'goto', 'surface', 'probes', 'dial', 'pktmux', 'c/slipper'], ['religious', 'religion', 'belief', 'slip', 'exist', 'atheist', 'beliefs', 'religions', 'sort', 'exists'], ['telescope', 'surface', 'probes', 'propulsion', 'slip', 'astronomical', 'moon', 'mariner', 'observatory', 'religious'], ['printer', 'deskjet', 'canon', 'quality', 'print', 'printers', 'bubblejet', 'paper', 'bought', 'printing']]\n"
          ]
        }
      ]
    },
    {
      "cell_type": "code",
      "metadata": {
        "id": "RnkbeZXAGdXw"
      },
      "source": [
        "#Define a similarity model from gensim\n",
        "tf_idf = gn.models.TfidfModel(term_matrx)\n",
        "\n",
        "#Please put the location were the model from gensim can be saved.\n",
        "path2 = '/content/drive/MyDrive/MachineLearning/homework-2/'\n",
        "\n",
        "#crete model for cosine similarity in local directory with the dictionary from\n",
        "#extracted from the documents\n",
        "sims2 = gn.similarities.Similarity(path2, tf_idf[term_matrx], num_features=len(dic))"
      ],
      "execution_count": null,
      "outputs": []
    },
    {
      "cell_type": "code",
      "metadata": {
        "colab": {
          "base_uri": "https://localhost:8080/"
        },
        "id": "NGHuOwcfX-SG",
        "outputId": "d8c23118-481f-4c02-b65f-f9538f144642"
      },
      "source": [
        "#Store arrays with both the values and index for highest 10 scoring documents. \n",
        "result_docs = []\n",
        "finalres = []\n",
        "\n",
        "#Loop through each of the queries based and calculate cosine similarity.\n",
        "for query in queries:\n",
        "  query_doc_bow = dic.doc2bow(query)\n",
        "  query_doc_tf_idf = tf_idf[query_doc_bow]\n",
        "  myres = sims2[query_doc_tf_idf]\n",
        "  result_docs.append((-myres).argsort()[:10])\n",
        "  finalres.append(myres)"
      ],
      "execution_count": null,
      "outputs": [
        {
          "output_type": "stream",
          "name": "stderr",
          "text": [
            "/usr/local/lib/python3.7/dist-packages/gensim/similarities/docsim.py:518: FutureWarning: arrays to stack must be passed as a \"sequence\" type such as list or tuple. Support for non-sequence iterables such as generators is deprecated as of NumPy 1.16 and will raise an error in the future.\n",
            "  result = numpy.hstack(shard_results)\n"
          ]
        }
      ]
    },
    {
      "cell_type": "code",
      "metadata": {
        "colab": {
          "base_uri": "https://localhost:8080/"
        },
        "id": "L4d-0DYLdkXO",
        "outputId": "78e2be3a-fee9-42d0-95bf-9c1621cfcd63"
      },
      "source": [
        "#Store values for highest 10 rated documents.\n",
        "value =[]\n",
        "\n",
        "#Obtain the values for similarities for each query per the highest 10t queries.\n",
        "for j in range(len(finalres)):\n",
        "  a = []\n",
        "  for k in range(len(result_docs)):\n",
        "    a.append(finalres[j][result_docs[j][k]])\n",
        "  value.append(a)\n",
        "\n",
        "print(value)"
      ],
      "execution_count": null,
      "outputs": [
        {
          "output_type": "stream",
          "name": "stdout",
          "text": [
            "[[0.6271928, 0.2096867, 0.1765453, 0.16844536, 0.14709482], [0.6558138, 0.240949, 0.13982326, 0.055072147, 0.05436644], [0.58607084, 0.27872834, 0.22796525, 0.18467978, 0.18037388], [0.3729824, 0.23799735, 0.21445556, 0.17928259, 0.16968456], [0.7916511, 0.31970146, 0.31653395, 0.25521526, 0.21933538]]\n"
          ]
        }
      ]
    },
    {
      "cell_type": "code",
      "metadata": {
        "colab": {
          "base_uri": "https://localhost:8080/"
        },
        "id": "tskhPunhLQA3",
        "outputId": "87478308-afc6-4fad-de86-554929b3c3cb"
      },
      "source": [
        "#Store the names of the final docs with 10th highest scores.\n",
        "finaldocs=[]\n",
        "\n",
        "#Loop through dictionary and obtain the names based on the name list.\n",
        "for j in range(len(result_docs)):\n",
        "  b=[]\n",
        "  for k in result_docs[j]:\n",
        "    b.append(docs_names[k])\n",
        "  finaldocs.append(b)\n",
        "\n",
        "print(finaldocs)"
      ],
      "execution_count": null,
      "outputs": [
        {
          "output_type": "stream",
          "name": "stdout",
          "text": [
            "[['59905', '59871', '59909', '60210', '60170', '60195', '59873', '59874', '59848', '60187'], ['10011', '10078', '59905', '59871', '59909', '60208', '101578', '60198', '60200', '101586'], ['51060', '51153', '10078', '51161', '10011', '49960', '51135', '51164', '51179', '51130'], ['59905', '60103', '10078', '59871', '10011', '59874', '60170', '60208', '60210', '59909'], ['10034', '10044', '10085', '10092', '10072', '10100', '10047', '10009', '10071', '10032']]\n"
          ]
        }
      ]
    }
  ]
}